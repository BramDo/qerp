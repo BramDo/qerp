{
 "cells": [
  {
   "cell_type": "markdown",
   "id": "e0de6789",
   "metadata": {},
   "source": [
    "# Notebook A: Toy fragment with SKQD (MVP)"
   ]
  },
  {
   "cell_type": "code",
   "execution_count": null,
   "id": "b484042e",
   "metadata": {},
   "outputs": [],
   "source": [
    "%pip -q install qiskit==2.1.* qiskit-aer qiskit-nature qiskit-algorithms"
   ]
  },
  {
   "cell_type": "code",
   "execution_count": null,
   "id": "b40d064a",
   "metadata": {},
   "outputs": [],
   "source": [
    "from qiskit_nature.second_q.drivers import PySCFDriver\n",
    "from qiskit_nature.units import DistanceUnit\n",
    "from qiskit_nature.second_q.transformers import FreezeCoreTransformer\n",
    "from qiskit_aer.primitives import Estimator as AerEstimator\n",
    "from qiskit import QuantumCircuit\n",
    "from qiskit.quantum_info import SparsePauliOp\n",
    "from qiskit_nature.second_q.mappers import ParityMapper, QubitConverter\n",
    "\n",
    "# Minimal H2 example as stand-in for toy fragment\n",
    "driver = PySCFDriver(atom='H 0 0 0; H 0 0 0.74', basis='sto-3g', charge=0, spin=0, unit=DistanceUnit.ANGSTROM)\n",
    "problem = driver.run()\n",
    "problem = FreezeCoreTransformer().transform(problem)\n",
    "second_q = problem.hamiltonian.second_q_op()\n",
    "\n",
    "conv = QubitConverter(ParityMapper(), two_qubit_reduction=False)\n",
    "Hq = conv.convert(second_q, num_particles=problem.num_particles)\n",
    "\n",
    "psi0 = QuantumCircuit(Hq.num_qubits)\n",
    "estimator = AerEstimator(backend_options={\"method\": \"statevector\", \"device\": \"GPU\"})\n",
    "res = estimator.run([(psi0, [Hq], [{}])]).result()\n",
    "E0 = res.values[0]\n",
    "E0"
   ]
  },
  {
   "cell_type": "markdown",
   "id": "f6fb797f",
   "metadata": {},
   "source": [
    "In de echte SKQD-pipeline vervang je deze directe verwachting door een Krylov-basis en GEVD op schattingen van $H$ en $S$."
   ]
  }
 ],
 "metadata": {},
 "nbformat": 4,
 "nbformat_minor": 5
}
