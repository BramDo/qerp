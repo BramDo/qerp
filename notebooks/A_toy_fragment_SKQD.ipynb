{
 "cells": [
  {
   "cell_type": "markdown",
   "id": "e0de6789",
   "metadata": {},
   "source": [
    "# Notebook A: Toy fragment with SKQD (MVP)"
   ]
  },
  {
   "cell_type": "markdown",
   "id": "f6fb797f",
   "metadata": {},
   "source": [
    "In de echte SKQD-pipeline vervang je deze directe verwachting door een Krylov-basis en GEVD op schattingen van $H$ en $S$."
   ]
  },
  {
   "cell_type": "code",
   "execution_count": 1,
   "id": "76212fd0",
   "metadata": {},
   "outputs": [
    {
     "name": "stdout",
     "output_type": "stream",
     "text": [
      "VQE-energie: -1.137283834485 Ha\n",
      "Optimale parameters: [ 6.71457185e-07 -1.31192358e-06 -1.12781775e-01]\n",
      "Convergentie: True\n"
     ]
    }
   ],
   "source": [
    "from qiskit_nature.second_q.drivers import PySCFDriver\n",
    "from qiskit_nature.second_q.transformers import FreezeCoreTransformer\n",
    "from qiskit_nature.second_q.mappers import ParityMapper\n",
    "from qiskit_nature.second_q.circuit.library import HartreeFock, UCCSD\n",
    "from qiskit.primitives import StatevectorEstimator\n",
    "from qiskit.quantum_info import SparsePauliOp\n",
    "from scipy.optimize import minimize\n",
    "from qiskit_nature.units import DistanceUnit\n",
    "import numpy as np\n",
    "\n",
    "# H2 toy-fragment (0.74 Å) → elektronisch probleem\n",
    "driver = PySCFDriver(atom='H 0 0 0; H 0 0 0.74',\n",
    "                     basis='sto-3g',\n",
    "                     unit=DistanceUnit.ANGSTROM)\n",
    "problem = FreezeCoreTransformer().transform(driver.run())\n",
    "\n",
    "num_particles = problem.num_particles\n",
    "num_spatial_orbitals = problem.num_spatial_orbitals\n",
    "mapper = ParityMapper(num_particles=num_particles)\n",
    "\n",
    "# Fermionische Hamiltoniaan → qubitoperator (2 qubits na two-qubit reduction)\n",
    "H_qubit: SparsePauliOp = mapper.map(problem.hamiltonian.second_q_op())\n",
    "constant_shift = sum(problem.hamiltonian.constants.values())\n",
    "\n",
    "# VQE-ansatz = HF + UCCSD-excitaties\n",
    "hf_state = HartreeFock(num_spatial_orbitals, num_particles, mapper)\n",
    "ansatz = UCCSD(num_spatial_orbitals=num_spatial_orbitals,\n",
    "               num_particles=num_particles,\n",
    "               qubit_mapper=mapper,\n",
    "               initial_state=hf_state)\n",
    "\n",
    "estimator = StatevectorEstimator()\n",
    "parameters = list(ansatz.parameters)\n",
    "\n",
    "def energy(theta):\n",
    "    bound = ansatz.assign_parameters(dict(zip(parameters, theta)))\n",
    "    ev = estimator.run([(bound, H_qubit)]).result()[0].data.evs\n",
    "    return float(ev) + constant_shift  # voeg kernrepulsie toe\n",
    "\n",
    "result = minimize(energy,\n",
    "                  x0=np.zeros(len(parameters)),\n",
    "                  method='COBYLA',\n",
    "                  options={'maxiter': 200, 'tol': 1e-6})\n",
    "\n",
    "print(f\"VQE-energie: {result.fun:.12f} Ha\")\n",
    "print(\"Optimale parameters:\", result.x)\n",
    "print(\"Convergentie:\", result.success)\n"
   ]
  },
  {
   "cell_type": "code",
   "execution_count": 8,
   "id": "e0caca19",
   "metadata": {},
   "outputs": [
    {
     "name": "stdout",
     "output_type": "stream",
     "text": [
      "converged SCF energy = -1.11675930739643\n"
     ]
    }
   ],
   "source": [
    "import sys\n",
    "from pathlib import Path\n",
    "\n",
    "repo_root = Path.cwd()\n",
    "if not (repo_root / \"src\").exists():\n",
    "    repo_root = repo_root.parent\n",
    "sys.path.append(str(repo_root / \"src\"))\n",
    "from dmet.dmet_pyscf import build_h2_fragment as dmet_build_h2_fragment\n",
    "\n",
    "\n",
    "fragment = dmet_build_h2_fragment(bond_length, cfg)\n",
    "\n",
    "\n"
   ]
  },
  {
   "cell_type": "code",
   "execution_count": 13,
   "id": "0ba18d4b",
   "metadata": {},
   "outputs": [
    {
     "name": "stdout",
     "output_type": "stream",
     "text": [
      "converged SCF energy = -1.11675930739643\n"
     ]
    }
   ],
   "source": [
    "bond_length = 0.74\n",
    "from qiskit_nature.units import DistanceUnit\n",
    "from qiskit_nature.second_q.mappers import ParityMapper\n",
    "from qiskit_nature.second_q.transformers import FreezeCoreTransformer\n",
    "\n",
    "\n",
    "\n",
    "cfg = DMETConfig(\n",
    "    basis=\"sto-3g\",\n",
    "    distance_unit=DistanceUnit.ANGSTROM,\n",
    "    mapper=\"parity\",\n",
    "    two_qubit_reduction=True,\n",
    ")\n",
    "fragment = dmet_build_h2_fragment(bond_length, cfg=cfg)\n",
    "\n",
    "\n",
    "def build_h2_fragment(bond_length: float, cfg: dict) -> dict:\n",
    "\tatom = f\"H 0 0 0; H 0 0 {bond_length}\"\n",
    "\tdriver = PySCFDriver(atom=atom,\n",
    "\t\t\t\t\t\t basis=cfg.get(\"basis\", \"sto-3g\"),\n",
    "\t\t\t\t\t\t unit=cfg.get(\"unit\", DistanceUnit.ANGSTROM))\n",
    "\tproblem = driver.run()\n",
    "\tfor transformer in cfg.get(\"transformers\", ()):\n",
    "\t\tproblem = transformer.transform(problem)\n",
    "\n",
    "\tmapper_cls = cfg.get(\"mapper_cls\", ParityMapper)\n",
    "\tmapper = mapper_cls(num_particles=problem.num_particles)\n",
    "\n",
    "\thamiltonian = mapper.map(problem.hamiltonian.second_q_op())\n",
    "\tconstant_shift = sum(problem.hamiltonian.constants.values())\n",
    "\n",
    "\treturn {\n",
    "\t\t\"driver\": driver,\n",
    "\t\t\"problem\": problem,\n",
    "\t\t\"mapper\": mapper,\n",
    "\t\t\"hamiltonian\": hamiltonian,\n",
    "\t\t\"constant_shift\": constant_shift,\n",
    "\t}\n",
    "\n",
    "\n"
   ]
  }
 ],
 "metadata": {
  "kernelspec": {
   "display_name": "qiskit",
   "language": "python",
   "name": "python3"
  },
  "language_info": {
   "codemirror_mode": {
    "name": "ipython",
    "version": 3
   },
   "file_extension": ".py",
   "mimetype": "text/x-python",
   "name": "python",
   "nbconvert_exporter": "python",
   "pygments_lexer": "ipython3",
   "version": "3.12.3"
  }
 },
 "nbformat": 4,
 "nbformat_minor": 5
}
