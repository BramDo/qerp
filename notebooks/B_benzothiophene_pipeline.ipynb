{
 "cells": [
  {
   "cell_type": "markdown",
   "id": "c1e7bd3c",
   "metadata": {},
   "source": [
    "# Notebook B"
   ]
  }
 ],
 "metadata": {},
 "nbformat": 4,
 "nbformat_minor": 5
}
